{
 "cells": [
  {
   "cell_type": "markdown",
   "metadata": {},
   "source": [
    "# Intro to numerical differentiation. Finding roots.\n",
    "\n",
    "## Practical code for finding roots of polynomials numerically."
   ]
  },
  {
   "cell_type": "code",
   "execution_count": 5,
   "metadata": {},
   "outputs": [],
   "source": [
    "import matplotlib.pyplot as plt\n",
    "import numpy as np"
   ]
  },
  {
   "cell_type": "markdown",
   "metadata": {},
   "source": [
    "## Polynomial operations"
   ]
  },
  {
   "cell_type": "markdown",
   "metadata": {},
   "source": [
    "Polynomials are uniquely defined in their canonical form with the array of coefficients.\n",
    "\n",
    "$$a_0 + a_1 x + a_2 x^2 + a_3 x^3 + \\dots + a_n x^n \\xleftrightarrow{\\text{Equivalent}} \\{a_0, a_1, a_2, a_3, \\dots, a_n\\}$$\n",
    "\n",
    "That's why, in order to manipulate them in code, it's enough to have the coefficients in a `list`.\n"
   ]
  },
  {
   "cell_type": "markdown",
   "metadata": {},
   "source": [
    "This is a function that evaluates a polynomial at a given $x$, given the coefficients in the array `coefficients`.\n",
    "\n",
    "The way it works is:\n",
    "If the polynomial is $f(x) = a_0 + a_1 x + a_2 x^2 + a_3x^3$, we do this:\n",
    "\n",
    "- $f(x) =  a_3 \\cdot x + a_2$\n",
    "- Then, $f(x) = f(x) \\cdot x + a_2 = a_3 \\cdot x + a_2 = a_2 + a_3x$\n",
    "- Then, $f(x) = f(x) \\cdot x + a_1 = (a_2 + a_3x)x + a_1 = a_1 + a_2x + a_3x^2$\n",
    "- The, $f(x) = f(x) \\cdot x + a_0 = (a_1 + a_2 x + a_3x^2) x + a_0 = a_0 + a_1x + a_2x^2 + a_3x^3$\n",
    "\n",
    "After that iterative process, we end up with the value we want.\n",
    "Below, we have the code for that."
   ]
  },
  {
   "cell_type": "code",
   "execution_count": 6,
   "metadata": {},
   "outputs": [],
   "source": [
    "def polynomial(coefficients, x):\n",
    "    \"\"\"\n",
    "    coefficients: [a0, a1, a2, ...] = a_0 + a_1*x + a_2*x^2 + ...\n",
    "    \"\"\"\n",
    "    \n",
    "    ans = 0\n",
    "    for a in coefficients[::-1]:\n",
    "        ans = ans*x + a\n",
    "    return ans\n",
    "    "
   ]
  },
  {
   "cell_type": "markdown",
   "metadata": {},
   "source": [
    "This is a function that computes the derivative of a polynomial.\n",
    "\n",
    "\n",
    "Given a polynomial $f(x) = a_0 + a_1 x + a_2 x^2 + a_3x^3 + \\dots + a_nx^n$, its derivative is\n",
    "$$\\frac{df}{dx} = a_1 + 2a_2x + 3a_3x^2 + \\dots + na_nx^{n - 1} \\xleftrightarrow{\\text{Equivalent}} \\{a_1, 2a_2, 3a_3, \\dots, na_n\\}$$\n",
    "\n",
    "This function receives the coefficients of the polynomial and returns the coefficients of its derivative"
   ]
  },
  {
   "cell_type": "code",
   "execution_count": 7,
   "metadata": {},
   "outputs": [],
   "source": [
    "def get_derivative(coefficients):\n",
    "    \"\"\"\n",
    "    coefficients: [a0, a1, a2, ...] = a_0 + a_1*x + a_2*x^2 + ...\n",
    "    derivative: [a1, 2*a2, 3*a3, ...] = a_1 + 2*a_2*x + 3*a_3*x^2 + ...\n",
    "    \"\"\"\n",
    "    \n",
    "    result = []\n",
    "    for i in range(1, len(coefficients)):\n",
    "        result.append(i*coefficients[i])\n",
    "    return result"
   ]
  },
  {
   "cell_type": "code",
   "execution_count": 8,
   "metadata": {},
   "outputs": [
    {
     "data": {
      "text/plain": [
       "[2, 6, 12]"
      ]
     },
     "execution_count": 8,
     "metadata": {},
     "output_type": "execute_result"
    }
   ],
   "source": [
    "assert get_derivative([1, 2, 3, 4]) == [2, 6, 12]\n",
    "get_derivative([1, 2, 3, 4]) # 1 + 2x + 3x^2 + 4x^3 --> 2 + 6x + 12x^2"
   ]
  },
  {
   "cell_type": "code",
   "execution_count": 9,
   "metadata": {},
   "outputs": [
    {
     "data": {
      "text/plain": [
       "17"
      ]
     },
     "execution_count": 9,
     "metadata": {},
     "output_type": "execute_result"
    }
   ],
   "source": [
    "polynomial([1, 2, 3], 2) # 1 + 2x + 3x^2 = 17"
   ]
  },
  {
   "cell_type": "markdown",
   "metadata": {},
   "source": [
    "## Newton's method"
   ]
  },
  {
   "cell_type": "markdown",
   "metadata": {},
   "source": [
    "Newton's method makes use of a linear approximation of the function.\n",
    "If we have a function $f(x)$, we can approximate it linearly near the point $x_0$ by:\n",
    "$$f(x) \\approx f(x_0) + f'(x_0) (x - x_0)$$\n",
    "\n",
    "Thus, if we want to find a root of $f(x)$ near $x_0$, we can do:\n",
    "$$0 = f(x_0) + f'(x_0) (x - x_0)$$\n",
    "That gives us $$x = x_0 - \\frac{f(x_0)}{f'(x_0)}$$\n",
    "\n",
    "That gives us the root of the tangent line of the function at the point $x_0$, but also moves us closer to the root of the function.\n",
    "We can continue doing that process until we're close enough.\n",
    "That gives an algorithm like this:\n",
    "\n",
    "$$\n",
    "\\begin{align*}\n",
    "&\\text{for } i \\in \\{0, 1, \\ldots, n\\_steps - 1\\}: \\\\\n",
    "&\\quad \\begin{aligned}\n",
    "    &\\quad \\begin{aligned}\n",
    "        x_{i+1} &= x_i - \\frac{f(x_i)}{f'(x_i)}\n",
    "    \\end{aligned}\n",
    "\\end{aligned}\n",
    "\\end{align*}\n",
    "$$"
   ]
  },
  {
   "cell_type": "code",
   "execution_count": 10,
   "metadata": {},
   "outputs": [],
   "source": [
    "def newton(coefficients):\n",
    "    derivative_coeffcients = get_derivative(coefficients)\n",
    "    x = np.random.rand()\n",
    "    threshold = 1e-3\n",
    "    cnt_iter = 0\n",
    "    while True:\n",
    "        delta_x = polynomial(coefficients, x)/polynomial(derivative_coeffcients, x)\n",
    "        if abs(delta_x) < threshold:\n",
    "            break\n",
    "        x = x - delta_x\n",
    "        cnt_iter += 1\n",
    "    print(\"Number of iterations: \", cnt_iter)\n",
    "    return x"
   ]
  },
  {
   "cell_type": "code",
   "execution_count": 11,
   "metadata": {},
   "outputs": [
    {
     "name": "stdout",
     "output_type": "stream",
     "text": [
      "Number of iterations:  4\n"
     ]
    },
    {
     "data": {
      "text/plain": [
       "1.7320513865844618"
      ]
     },
     "execution_count": 11,
     "metadata": {},
     "output_type": "execute_result"
    }
   ],
   "source": [
    "c = [-3, 0, 1] # -3 + x^2\n",
    "newton(c)"
   ]
  },
  {
   "cell_type": "code",
   "execution_count": 12,
   "metadata": {},
   "outputs": [
    {
     "data": {
      "text/plain": [
       "1.7320508075688772"
      ]
     },
     "execution_count": 12,
     "metadata": {},
     "output_type": "execute_result"
    }
   ],
   "source": [
    "np.sqrt(3)"
   ]
  },
  {
   "cell_type": "markdown",
   "metadata": {},
   "source": [
    "## Bisection method"
   ]
  },
  {
   "cell_type": "markdown",
   "metadata": {},
   "source": [
    "An alternative method to find a root of a function $f(x)$ in a range $(a, b)$ is the **Bisection Method**.\n",
    "\n",
    "We will have the following assumptioms (one of the two):\n",
    "- $f(a) < 0$ and $f(b) > 0$\n",
    "- $f(a) > 0$ and $f(b) < 0$\n",
    "\n",
    "Then, due to the [Intermediate Vaule Theorem](https://en.wikipedia.org/wiki/Intermediate_value_theorem), we know there's at least a root in the range $[a, b]$.\n",
    "\n",
    "![Intermediate Value Theorem Example](https://upload.wikimedia.org/wikipedia/commons/thumb/8/83/Illustration_for_the_intermediate_value_theorem.svg/756px-Illustration_for_the_intermediate_value_theorem.svg.png)\n",
    "\n",
    "Our invariant property (and we'll keep it that way all the time) is that $f(a)$ and $f(b)$ have opposite signs (that guarantees having a root in $(a, b)$).\n",
    "Then, we pick a point $x \\in (a, b)$ and evalute $f(x)$.\n",
    "- If $f(x)$ has the same as $f(a)$, then $f(x)$ and $f(b)$ have opposite signs, which means there is a root in the range $(x, b)$.\n",
    "- Otherwise, then $f(x)$ has the opposite of $f(a)$, which means there's a root in the range $(a, x)$.\n",
    "\n",
    "That gives us an algorithm to find a root iteratively. For as long as we want, we pick the middle point of the current range, and according to the previous conditions, we decide to move to the left side or the right side of the range. That way, the range in which we are searching the root, gets halved each time, and after some time, it becomes so narrow that any number in the range will be close enough to the real root.\n"
   ]
  },
  {
   "cell_type": "code",
   "execution_count": 20,
   "metadata": {},
   "outputs": [],
   "source": [
    "def bisection(coefficients, a, b):\n",
    "    # assume fa and fb have different signs (fa * fb < 0)\n",
    "    fa = polynomial(coefficients, a) \n",
    "    fb = polynomial(coefficients, b)\n",
    "    threshold = 1e-10\n",
    "    while b - a > threshold:\n",
    "        m = (a + b) / 2\n",
    "        fm = polynomial(coefficients, m)\n",
    "        if fm == 0:\n",
    "            return m \n",
    "        elif fa * fm > 0: # checking f(a) and f(m) have different signs\n",
    "            a = m\n",
    "            fa = fm\n",
    "        else:\n",
    "            b = m\n",
    "    return (a + b) / 2"
   ]
  },
  {
   "cell_type": "code",
   "execution_count": 24,
   "metadata": {},
   "outputs": [
    {
     "data": {
      "text/plain": [
       "1.7320508075936232"
      ]
     },
     "execution_count": 24,
     "metadata": {},
     "output_type": "execute_result"
    }
   ],
   "source": [
    "c = [-3, 0, 1] # -3 + x^2\n",
    "bisection(c, 0, 2)"
   ]
  },
  {
   "cell_type": "code",
   "execution_count": 25,
   "metadata": {},
   "outputs": [
    {
     "data": {
      "text/plain": [
       "-1.7320508075936232"
      ]
     },
     "execution_count": 25,
     "metadata": {},
     "output_type": "execute_result"
    }
   ],
   "source": [
    "bisection(c, -2, 0)"
   ]
  },
  {
   "cell_type": "code",
   "execution_count": 16,
   "metadata": {},
   "outputs": [
    {
     "data": {
      "text/plain": [
       "<matplotlib.legend.Legend at 0x107b17ac0>"
      ]
     },
     "execution_count": 16,
     "metadata": {},
     "output_type": "execute_result"
    },
    {
     "data": {
      "image/png": "[encoded data removed]",
      "text/plain": [
       "<Figure size 640x480 with 1 Axes>"
      ]
     },
     "metadata": {},
     "output_type": "display_data"
    }
   ],
   "source": [
    "x = np.linspace(-5, 5, num=100000)\n",
    "y = (x - 1) * (x + 2) * (x - 4) # [8, -6, -3, 1]\n",
    "plt.plot(x, y, label='(x - 1) * (x + 2) * (x - 4)')\n",
    "plt.plot(x, x * 0, label='x axis')\n",
    "plt.legend()"
   ]
  },
  {
   "cell_type": "markdown",
   "metadata": {},
   "source": [
    "## Using Bisection method and recursion in order to find all roots!"
   ]
  },
  {
   "cell_type": "markdown",
   "metadata": {},
   "source": [
    "Explanation: TODO (coming soon)"
   ]
  },
  {
   "cell_type": "code",
   "execution_count": 18,
   "metadata": {},
   "outputs": [],
   "source": [
    "def find_roots(coefficients, left, right):\n",
    "    if len(coefficients) == 2: # degree = 1\n",
    "        return [-coefficients[0] / coefficients[1]]\n",
    "    derivative_coefficients = get_derivative(coefficients)\n",
    "    extrema = find_roots(derivative_coefficients, left, right)\n",
    "    extrema = [left] + extrema + [right]\n",
    "    roots = []\n",
    "    for i in range(len(extrema) - 1):\n",
    "        root = bisection(coefficients, extrema[i], extrema[i + 1])\n",
    "        roots.append(root)\n",
    "    return roots "
   ]
  },
  {
   "cell_type": "code",
   "execution_count": 19,
   "metadata": {},
   "outputs": [
    {
     "name": "stdout",
     "output_type": "stream",
     "text": [
      "-2.0\n",
      "1.0\n",
      "4.0\n"
     ]
    }
   ],
   "source": [
    "c = [8, -6, -3, 1]\n",
    "roots = find_roots(c, -5, 5)\n",
    "for root in roots:\n",
    "    print(round(root, 2))"
   ]
  },
  {
   "cell_type": "code",
   "execution_count": null,
   "metadata": {},
   "outputs": [],
   "source": []
  }
 ],
 "metadata": {
  "kernelspec": {
   "display_name": "Python 3",
   "language": "python",
   "name": "python3"
  },
  "language_info": {
   "codemirror_mode": {
    "name": "ipython",
    "version": 3
   },
   "file_extension": ".py",
   "mimetype": "text/x-python",
   "name": "python",
   "nbconvert_exporter": "python",
   "pygments_lexer": "ipython3",
   "version": "3.9.6"
  }
 },
 "nbformat": 4,
 "nbformat_minor": 2
}
